{
  "nbformat": 4,
  "nbformat_minor": 0,
  "metadata": {
    "colab": {
      "provenance": [],
      "authorship_tag": "ABX9TyNU1ywPL1+cSp4Z0vR9sRlf",
      "include_colab_link": true
    },
    "kernelspec": {
      "name": "python3",
      "display_name": "Python 3"
    },
    "language_info": {
      "name": "python"
    }
  },
  "cells": [
    {
      "cell_type": "markdown",
      "metadata": {
        "id": "view-in-github",
        "colab_type": "text"
      },
      "source": [
        "<a href=\"https://colab.research.google.com/github/thor4/crypto/blob/main/Conklin_Technical_test.ipynb\" target=\"_parent\"><img src=\"https://colab.research.google.com/assets/colab-badge.svg\" alt=\"Open In Colab\"/></a>"
      ]
    },
    {
      "cell_type": "markdown",
      "source": [
        "# Conklin Technical Test\n",
        "2/3/22\n",
        "\n",
        "*Please write a python script which given a tx hash can identify the gainers and losers of the transaction. Who ended up making assets and who ended up losing. Please disregard any fees earned as assets gained.*"
      ],
      "metadata": {
        "id": "ARcWtmwmXD0Y"
      }
    },
    {
      "cell_type": "markdown",
      "source": [
        "Install the web3 library"
      ],
      "metadata": {
        "id": "1o5vacJGsH8r"
      }
    },
    {
      "cell_type": "code",
      "source": [
        "%pip install web3"
      ],
      "metadata": {
        "colab": {
          "base_uri": "https://localhost:8080/",
          "height": 1000
        },
        "id": "x4Mrt7D2sGt3",
        "outputId": "7737ff80-c598-483c-e793-00480a4075e6"
      },
      "execution_count": 2,
      "outputs": [
        {
          "output_type": "stream",
          "name": "stdout",
          "text": [
            "Looking in indexes: https://pypi.org/simple, https://us-python.pkg.dev/colab-wheels/public/simple/\n",
            "Collecting web3\n",
            "  Downloading web3-5.31.3-py3-none-any.whl (501 kB)\n",
            "\u001b[2K     \u001b[90m━━━━━━━━━━━━━━━━━━━━━━━━━━━━━━━━━━━━━━\u001b[0m \u001b[32m501.8/501.8 KB\u001b[0m \u001b[31m19.2 MB/s\u001b[0m eta \u001b[36m0:00:00\u001b[0m\n",
            "\u001b[?25hCollecting websockets<10,>=9.1\n",
            "  Downloading websockets-9.1-cp38-cp38-manylinux2010_x86_64.whl (102 kB)\n",
            "\u001b[2K     \u001b[90m━━━━━━━━━━━━━━━━━━━━━━━━━━━━━━━━━━━━━━━\u001b[0m \u001b[32m102.3/102.3 KB\u001b[0m \u001b[31m6.5 MB/s\u001b[0m eta \u001b[36m0:00:00\u001b[0m\n",
            "\u001b[?25hCollecting lru-dict<2.0.0,>=1.1.6\n",
            "  Downloading lru_dict-1.1.8-cp38-cp38-manylinux_2_5_x86_64.manylinux1_x86_64.manylinux_2_17_x86_64.manylinux2014_x86_64.whl (29 kB)\n",
            "Collecting eth-abi<3.0.0,>=2.2.0\n",
            "  Downloading eth_abi-2.2.0-py3-none-any.whl (28 kB)\n",
            "Collecting eth-account<0.6.0,>=0.5.9\n",
            "  Downloading eth_account-0.5.9-py3-none-any.whl (101 kB)\n",
            "\u001b[2K     \u001b[90m━━━━━━━━━━━━━━━━━━━━━━━━━━━━━━━━━━━━━━━\u001b[0m \u001b[32m101.8/101.8 KB\u001b[0m \u001b[31m8.9 MB/s\u001b[0m eta \u001b[36m0:00:00\u001b[0m\n",
            "\u001b[?25hCollecting eth-hash[pycryptodome]<1.0.0,>=0.2.0\n",
            "  Downloading eth_hash-0.5.1-py3-none-any.whl (9.0 kB)\n",
            "Requirement already satisfied: jsonschema<5,>=3.2.0 in /usr/local/lib/python3.8/dist-packages (from web3) (4.3.3)\n",
            "Requirement already satisfied: requests<3.0.0,>=2.16.0 in /usr/local/lib/python3.8/dist-packages (from web3) (2.25.1)\n",
            "Requirement already satisfied: aiohttp<4,>=3.7.4.post0 in /usr/local/lib/python3.8/dist-packages (from web3) (3.8.3)\n",
            "Collecting eth-utils<2.0.0,>=1.9.5\n",
            "  Downloading eth_utils-1.10.0-py3-none-any.whl (24 kB)\n",
            "Collecting ipfshttpclient==0.8.0a2\n",
            "  Downloading ipfshttpclient-0.8.0a2-py3-none-any.whl (82 kB)\n",
            "\u001b[2K     \u001b[90m━━━━━━━━━━━━━━━━━━━━━━━━━━━━━━━━━━━━━━━━\u001b[0m \u001b[32m82.6/82.6 KB\u001b[0m \u001b[31m4.8 MB/s\u001b[0m eta \u001b[36m0:00:00\u001b[0m\n",
            "\u001b[?25hCollecting hexbytes<1.0.0,>=0.1.0\n",
            "  Downloading hexbytes-0.3.0-py3-none-any.whl (6.4 kB)\n",
            "Collecting eth-typing<3.0.0,>=2.0.0\n",
            "  Downloading eth_typing-2.3.0-py3-none-any.whl (6.2 kB)\n",
            "Collecting protobuf==3.19.5\n",
            "  Downloading protobuf-3.19.5-cp38-cp38-manylinux_2_17_x86_64.manylinux2014_x86_64.whl (1.1 MB)\n",
            "\u001b[2K     \u001b[90m━━━━━━━━━━━━━━━━━━━━━━━━━━━━━━━━━━━━━━━━\u001b[0m \u001b[32m1.1/1.1 MB\u001b[0m \u001b[31m35.6 MB/s\u001b[0m eta \u001b[36m0:00:00\u001b[0m\n",
            "\u001b[?25hCollecting eth-rlp<0.3\n",
            "  Downloading eth_rlp-0.2.1-py3-none-any.whl (5.0 kB)\n",
            "Collecting multiaddr>=0.0.7\n",
            "  Downloading multiaddr-0.0.9-py2.py3-none-any.whl (16 kB)\n",
            "Requirement already satisfied: yarl<2.0,>=1.0 in /usr/local/lib/python3.8/dist-packages (from aiohttp<4,>=3.7.4.post0->web3) (1.8.2)\n",
            "Requirement already satisfied: attrs>=17.3.0 in /usr/local/lib/python3.8/dist-packages (from aiohttp<4,>=3.7.4.post0->web3) (22.2.0)\n",
            "Requirement already satisfied: aiosignal>=1.1.2 in /usr/local/lib/python3.8/dist-packages (from aiohttp<4,>=3.7.4.post0->web3) (1.3.1)\n",
            "Requirement already satisfied: multidict<7.0,>=4.5 in /usr/local/lib/python3.8/dist-packages (from aiohttp<4,>=3.7.4.post0->web3) (6.0.4)\n",
            "Requirement already satisfied: charset-normalizer<3.0,>=2.0 in /usr/local/lib/python3.8/dist-packages (from aiohttp<4,>=3.7.4.post0->web3) (2.1.1)\n",
            "Requirement already satisfied: frozenlist>=1.1.1 in /usr/local/lib/python3.8/dist-packages (from aiohttp<4,>=3.7.4.post0->web3) (1.3.3)\n",
            "Requirement already satisfied: async-timeout<5.0,>=4.0.0a3 in /usr/local/lib/python3.8/dist-packages (from aiohttp<4,>=3.7.4.post0->web3) (4.0.2)\n",
            "Collecting parsimonious<0.9.0,>=0.8.0\n",
            "  Downloading parsimonious-0.8.1.tar.gz (45 kB)\n",
            "\u001b[2K     \u001b[90m━━━━━━━━━━━━━━━━━━━━━━━━━━━━━━━━━━━━━━━━\u001b[0m \u001b[32m45.1/45.1 KB\u001b[0m \u001b[31m3.4 MB/s\u001b[0m eta \u001b[36m0:00:00\u001b[0m\n",
            "\u001b[?25h  Preparing metadata (setup.py) ... \u001b[?25l\u001b[?25hdone\n",
            "Collecting eth-keys<0.4.0,>=0.3.4\n",
            "  Downloading eth_keys-0.3.4-py3-none-any.whl (21 kB)\n",
            "Collecting eth-keyfile<0.6.0,>=0.5.0\n",
            "  Downloading eth_keyfile-0.5.1-py3-none-any.whl (8.3 kB)\n",
            "Collecting bitarray<3,>=1.2.1\n",
            "  Downloading bitarray-2.6.2-cp38-cp38-manylinux_2_17_x86_64.manylinux2014_x86_64.whl (240 kB)\n",
            "\u001b[2K     \u001b[90m━━━━━━━━━━━━━━━━━━━━━━━━━━━━━━━━━━━━━━\u001b[0m \u001b[32m240.4/240.4 KB\u001b[0m \u001b[31m12.7 MB/s\u001b[0m eta \u001b[36m0:00:00\u001b[0m\n",
            "\u001b[?25hCollecting rlp<3,>=1.0.0\n",
            "  Downloading rlp-2.0.1-py2.py3-none-any.whl (20 kB)\n",
            "Collecting pycryptodome<4,>=3.6.6\n",
            "  Downloading pycryptodome-3.17-cp35-abi3-manylinux_2_17_x86_64.manylinux2014_x86_64.whl (2.1 MB)\n",
            "\u001b[2K     \u001b[90m━━━━━━━━━━━━━━━━━━━━━━━━━━━━━━━━━━━━━━━━\u001b[0m \u001b[32m2.1/2.1 MB\u001b[0m \u001b[31m53.3 MB/s\u001b[0m eta \u001b[36m0:00:00\u001b[0m\n",
            "\u001b[?25hCollecting eth-utils<2.0.0,>=1.9.5\n",
            "  Downloading eth_utils-1.9.5-py3-none-any.whl (23 kB)\n",
            "Collecting cytoolz<1.0.0,>=0.10.1\n",
            "  Downloading cytoolz-0.12.1-cp38-cp38-manylinux_2_17_x86_64.manylinux2014_x86_64.whl (1.8 MB)\n",
            "\u001b[2K     \u001b[90m━━━━━━━━━━━━━━━━━━━━━━━━━━━━━━━━━━━━━━━━\u001b[0m \u001b[32m1.8/1.8 MB\u001b[0m \u001b[31m59.1 MB/s\u001b[0m eta \u001b[36m0:00:00\u001b[0m\n",
            "\u001b[?25hRequirement already satisfied: importlib-resources>=1.4.0 in /usr/local/lib/python3.8/dist-packages (from jsonschema<5,>=3.2.0->web3) (5.10.2)\n",
            "Requirement already satisfied: pyrsistent!=0.17.0,!=0.17.1,!=0.17.2,>=0.14.0 in /usr/local/lib/python3.8/dist-packages (from jsonschema<5,>=3.2.0->web3) (0.19.3)\n",
            "Requirement already satisfied: chardet<5,>=3.0.2 in /usr/local/lib/python3.8/dist-packages (from requests<3.0.0,>=2.16.0->web3) (4.0.0)\n",
            "Requirement already satisfied: idna<3,>=2.5 in /usr/local/lib/python3.8/dist-packages (from requests<3.0.0,>=2.16.0->web3) (2.10)\n",
            "Requirement already satisfied: urllib3<1.27,>=1.21.1 in /usr/local/lib/python3.8/dist-packages (from requests<3.0.0,>=2.16.0->web3) (1.24.3)\n",
            "Requirement already satisfied: certifi>=2017.4.17 in /usr/local/lib/python3.8/dist-packages (from requests<3.0.0,>=2.16.0->web3) (2022.12.7)\n",
            "Requirement already satisfied: toolz>=0.8.0 in /usr/local/lib/python3.8/dist-packages (from cytoolz<1.0.0,>=0.10.1->eth-utils<2.0.0,>=1.9.5->web3) (0.12.0)\n",
            "Requirement already satisfied: zipp>=3.1.0 in /usr/local/lib/python3.8/dist-packages (from importlib-resources>=1.4.0->jsonschema<5,>=3.2.0->web3) (3.12.0)\n",
            "Collecting base58\n",
            "  Downloading base58-2.1.1-py3-none-any.whl (5.6 kB)\n",
            "Collecting netaddr\n",
            "  Downloading netaddr-0.8.0-py2.py3-none-any.whl (1.9 MB)\n",
            "\u001b[2K     \u001b[90m━━━━━━━━━━━━━━━━━━━━━━━━━━━━━━━━━━━━━━━━\u001b[0m \u001b[32m1.9/1.9 MB\u001b[0m \u001b[31m42.8 MB/s\u001b[0m eta \u001b[36m0:00:00\u001b[0m\n",
            "\u001b[?25hRequirement already satisfied: six in /usr/local/lib/python3.8/dist-packages (from multiaddr>=0.0.7->ipfshttpclient==0.8.0a2->web3) (1.15.0)\n",
            "Collecting varint\n",
            "  Downloading varint-1.0.2.tar.gz (1.9 kB)\n",
            "  Preparing metadata (setup.py) ... \u001b[?25l\u001b[?25hdone\n",
            "Building wheels for collected packages: parsimonious, varint\n",
            "  Building wheel for parsimonious (setup.py) ... \u001b[?25l\u001b[?25hdone\n",
            "  Created wheel for parsimonious: filename=parsimonious-0.8.1-py3-none-any.whl size=42725 sha256=14a340ce02d50cb229a09f56c7669464a3f0b2ad7c7d11cd2a636b8a674ab35a\n",
            "  Stored in directory: /root/.cache/pip/wheels/d8/af/19/fb896f509a437aca2dcf62583e84d7fb2cd5b628c1564a609c\n",
            "  Building wheel for varint (setup.py) ... \u001b[?25l\u001b[?25hdone\n",
            "  Created wheel for varint: filename=varint-1.0.2-py3-none-any.whl size=1978 sha256=2ac7caffa19649bb4e5d19618925aff41d561a8ab7ca4a5ec28e8d18340a1355\n",
            "  Stored in directory: /root/.cache/pip/wheels/cc/a8/a4/4d9e9807c27585dc974fc0e86a3e4345649d71f8a35906d1a8\n",
            "Successfully built parsimonious varint\n",
            "Installing collected packages: varint, netaddr, lru-dict, bitarray, websockets, pycryptodome, protobuf, parsimonious, hexbytes, eth-typing, eth-hash, cytoolz, base58, multiaddr, eth-utils, rlp, ipfshttpclient, eth-keys, eth-abi, eth-rlp, eth-keyfile, eth-account, web3\n",
            "  Attempting uninstall: protobuf\n",
            "    Found existing installation: protobuf 3.19.6\n",
            "    Uninstalling protobuf-3.19.6:\n",
            "      Successfully uninstalled protobuf-3.19.6\n",
            "Successfully installed base58-2.1.1 bitarray-2.6.2 cytoolz-0.12.1 eth-abi-2.2.0 eth-account-0.5.9 eth-hash-0.5.1 eth-keyfile-0.5.1 eth-keys-0.3.4 eth-rlp-0.2.1 eth-typing-2.3.0 eth-utils-1.9.5 hexbytes-0.3.0 ipfshttpclient-0.8.0a2 lru-dict-1.1.8 multiaddr-0.0.9 netaddr-0.8.0 parsimonious-0.8.1 protobuf-3.19.5 pycryptodome-3.17 rlp-2.0.1 varint-1.0.2 web3-5.31.3 websockets-9.1\n"
          ]
        },
        {
          "output_type": "display_data",
          "data": {
            "application/vnd.colab-display-data+json": {
              "pip_warning": {
                "packages": [
                  "google"
                ]
              }
            }
          },
          "metadata": {}
        }
      ]
    },
    {
      "cell_type": "markdown",
      "source": [
        "Load relevant libraries."
      ],
      "metadata": {
        "id": "zgBlRT8yW9tT"
      }
    },
    {
      "cell_type": "code",
      "execution_count": 11,
      "metadata": {
        "id": "x7iEiyU6FZR2"
      },
      "outputs": [],
      "source": [
        "from web3 import Web3\n",
        "import requests\n",
        "import json"
      ]
    },
    {
      "cell_type": "markdown",
      "source": [
        "Identify the Ethereum node. Here I'm using a temporary node from Infura."
      ],
      "metadata": {
        "id": "OcLepcm-rHIf"
      }
    },
    {
      "cell_type": "code",
      "source": [
        "w3 = Web3(Web3.HTTPProvider(\"https://mainnet.infura.io/v3/518dbfd281604e4f8dbd0678973ed9bd\"))"
      ],
      "metadata": {
        "id": "nIvN9Jm-GpaJ"
      },
      "execution_count": 2,
      "outputs": []
    },
    {
      "cell_type": "markdown",
      "source": [
        "Define a get_token_price function that pulls pricing information from dexscreener based on a token address. Unfortunately dexscreener doesn't provide historical pricing. So, we can't get the price at the time of the transaction. However, it has pricing for more tokens than competitors. The tradeoff here is between pricing data for a larger range of tokens and time-dependent pricing. The decision was to maximize the chance we get a price for any tokens involved in a transaction."
      ],
      "metadata": {
        "id": "YkSKH655sdcx"
      }
    },
    {
      "cell_type": "code",
      "source": [
        "def get_token_price(token_address):\n",
        "    response = requests.get(f\"https://api.dexscreener.com/latest/dex/tokens/{token_address}\").json()\n",
        "    if response['pairs']:\n",
        "      return float(response['pairs'][0]['priceUsd'])\n",
        "    return 0"
      ],
      "metadata": {
        "id": "IA2QzHqdsdGs"
      },
      "execution_count": 22,
      "outputs": []
    },
    {
      "cell_type": "markdown",
      "source": [
        "Define a parse_transaction function that takes a transaction hash and saves its details in transaction and receipt variables. It also iterates through all associated transfer events and identifies who gains and loses each time, saving the results in a dict structure. The USD-denominated running total for all gainers and losers are updated after each event and the resulting dict structures are returned at the end."
      ],
      "metadata": {
        "id": "1scDT3OEspwX"
      }
    },
    {
      "cell_type": "code",
      "source": [
        "def parse_transaction(transaction_hash):\n",
        "    transaction = w3.eth.getTransaction(transaction_hash)\n",
        "    receipt = w3.eth.getTransactionReceipt(transaction_hash)\n",
        "    \n",
        "    gainers = {}\n",
        "    losers = {}\n",
        "    \n",
        "    for log in receipt[\"logs\"]:\n",
        "        if log[\"topics\"][0].hex() == \"0xddf252ad1be2c89b69c2b068fc378daa952ba7f163c4a11628f55a4df523b3ef\":\n",
        "            from_address = w3.toChecksumAddress(log[\"topics\"][1].hex()[-40:])\n",
        "            to_address = w3.toChecksumAddress(log[\"topics\"][2].hex()[-40:])\n",
        "            token_address = w3.toChecksumAddress(log[\"address\"])\n",
        "\n",
        "            token_price = get_token_price(token_address)\n",
        "            token_value = int(log[\"data\"], 16) / 10**18\n",
        "            token_usd_value = token_value * token_price\n",
        "\n",
        "            if from_address in gainers:\n",
        "                gainers[from_address] -= token_usd_value\n",
        "                if gainers[from_address] < 0:\n",
        "                    losers[from_address] = abs(gainers[from_address])\n",
        "                    gainers.pop(from_address)\n",
        "            elif from_address in losers:\n",
        "                losers[from_address] += token_usd_value\n",
        "                if losers[from_address] < 0:\n",
        "                    gainers[from_address] = abs(losers[from_address])\n",
        "                    losers.pop(from_address)\n",
        "            else:\n",
        "                losers[from_address] = token_usd_value\n",
        "\n",
        "            if to_address in gainers:\n",
        "                gainers[to_address] += token_usd_value\n",
        "                if gainers[to_address] < 0:\n",
        "                    losers[to_address] = abs(gainers[to_address])\n",
        "                    gainers.pop(to_address)\n",
        "            elif to_address in losers:\n",
        "                losers[to_address] -= token_usd_value\n",
        "                if losers[to_address] < 0:\n",
        "                    gainers[to_address] = abs(losers[to_address])\n",
        "                    losers.pop(to_address)\n",
        "            else:\n",
        "                gainers[to_address] = token_usd_value\n",
        "\n",
        "    return gainers, losers"
      ],
      "metadata": {
        "id": "0pOaoKogFjcu"
      },
      "execution_count": 37,
      "outputs": []
    },
    {
      "cell_type": "markdown",
      "source": [
        "Define and process the transaction hash to identify its gainers and losers."
      ],
      "metadata": {
        "id": "snKPUEepBhSO"
      }
    },
    {
      "cell_type": "code",
      "source": [
        "tx_hash = \"0x6200bf5c43c214caa1177c3676293442059b4f39eb5dbae6cfd4e6ad16305668\"\n",
        "Gainers, Losers = parse_transaction(tx_hash)\n",
        "print(\"Gainers:\", Gainers)\n",
        "print(\"Losers:\", Losers)"
      ],
      "metadata": {
        "colab": {
          "base_uri": "https://localhost:8080/"
        },
        "id": "EC9vdfEZBgKC",
        "outputId": "d2c9b9ea-612b-4203-ba4f-52df6f5d01de"
      },
      "execution_count": 38,
      "outputs": [
        {
          "output_type": "stream",
          "name": "stdout",
          "text": [
            "Gainers: {'0xDb2d869ac23715af204093e933f5EB57F2DC12a9': 36707.81634026766}\n",
            "Losers: {'0xBA12222222228d8Ba445958a75a0704d566BF2C8': 0.0, '0xb835752Feb00c278484c464b697e03b03C53E11B': 36707.8163402621}\n"
          ]
        }
      ]
    },
    {
      "cell_type": "markdown",
      "source": [
        "This tells us that the malicious contract (0xDb2d869ac23715af204093e933f5EB57F2DC12a9) gained about $36,707.82.\n",
        "\n",
        "The Balancer deployer responsible for the flash loan (0xBA12222222228d8Ba445958a75a0704d566BF2C8) was flat at $0 since the loan was completely paid back.\n",
        "\n",
        "The Uniswap LP contract address for the WETH-TINU pair (Uniswap V2: TINU 12, 0xb835752Feb00c278484c464b697e03b03C53E11B) lost the most at $36,707.82\n",
        "\n",
        "This nets out nicely."
      ],
      "metadata": {
        "id": "i3rlByUAUuQT"
      }
    },
    {
      "cell_type": "markdown",
      "source": [
        "## Improvements for future consideration:\n",
        "\n",
        "\n",
        "1.   Capture final withdrawals event(s) to identify which address ended up with potential profit.\n",
        "2.   Identify addresses who held positions in the Uniswap contract address that were exposed to the losses and calculate their realized losses.\n",
        "3.   Move $0 balances to a new dict for neutral parties that neither gained nor lost on the transaction.\n",
        "\n"
      ],
      "metadata": {
        "id": "cXDWErzTVlTE"
      }
    }
  ]
}