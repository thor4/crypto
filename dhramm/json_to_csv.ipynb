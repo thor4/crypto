{
  "nbformat": 4,
  "nbformat_minor": 0,
  "metadata": {
    "colab": {
      "provenance": [],
      "authorship_tag": "ABX9TyO8pF8Lf4F2SDSCPPUidBhG",
      "include_colab_link": true
    },
    "kernelspec": {
      "name": "python3",
      "display_name": "Python 3"
    },
    "language_info": {
      "name": "python"
    }
  },
  "cells": [
    {
      "cell_type": "markdown",
      "metadata": {
        "id": "view-in-github",
        "colab_type": "text"
      },
      "source": [
        "<a href=\"https://colab.research.google.com/github/thor4/crypto/blob/main/dhramm/json_to_csv.ipynb\" target=\"_parent\"><img src=\"https://colab.research.google.com/assets/colab-badge.svg\" alt=\"Open In Colab\"/></a>"
      ]
    },
    {
      "cell_type": "markdown",
      "source": [
        "# Coingecko Pricing Data CSV Creator"
      ],
      "metadata": {
        "id": "bJGzkja_ncz0"
      }
    },
    {
      "cell_type": "markdown",
      "source": [
        "1.   Download historical pricing data using the Coingecko API.\n",
        "- - https://www.coingecko.com/en/api/documentation\n",
        "- - ie: https://api.coingecko.com/api/v3/coins/ethereum/market_chart/range?vs_currency=usd&from=1630387200&to=1676784000\n",
        "2.   Upload the JSON as data.json to the working directory.\n",
        "3.   The following script will extract price and convert all dates then save as a CSV with date and price columns."
      ],
      "metadata": {
        "id": "POhwOLYJm83q"
      }
    },
    {
      "cell_type": "code",
      "execution_count": 1,
      "metadata": {
        "id": "MSo3LFczBe6K"
      },
      "outputs": [],
      "source": [
        "import json\n",
        "import csv\n",
        "from datetime import datetime\n",
        "import pytz\n",
        "\n",
        "# load the JSON data from a file\n",
        "with open('data.json') as f:\n",
        "    data = json.load(f)\n",
        "\n",
        "# extract the \"prices\" data from the JSON\n",
        "prices = data['prices']\n",
        "\n",
        "# create a timezone object for Eastern Time\n",
        "eastern_tz = pytz.timezone('US/Eastern')\n",
        "\n",
        "# convert the UNIX timestamps to date strings and create a list of dictionaries\n",
        "price_data = []\n",
        "for item in prices:\n",
        "    timestamp = item[0] // 1000  # convert to seconds\n",
        "    date = datetime.utcfromtimestamp(timestamp).replace(tzinfo=pytz.UTC)\n",
        "    date = date.astimezone(eastern_tz)\n",
        "    date_string = date.strftime('%Y-%m-%d')\n",
        "    # price = item[1]\n",
        "    # price_data.append({'date': date_string, 'price': price})\n",
        "    # extract only dates between [2/14/2022, 2/18/23], inclusive\n",
        "    if datetime(2022, 2, 14, 0, 0, tzinfo=eastern_tz) <= date <= datetime(2023, 2, 18, 23, 59, 59, tzinfo=eastern_tz):\n",
        "        date_string = date.strftime('%Y-%m-%d')\n",
        "        price = item[1]\n",
        "        price_data.append({'date': date_string, 'price': price})\n",
        "\n",
        "# write the prices data to a CSV file\n",
        "with open('prices.csv', 'w', newline='') as f:\n",
        "    writer = csv.DictWriter(f, fieldnames=['date', 'price'])\n",
        "    writer.writeheader()\n",
        "    for item in price_data:\n",
        "        writer.writerow(item)\n"
      ]
    },
    {
      "cell_type": "markdown",
      "source": [
        "If needed, interpolate pricing for any missing dates."
      ],
      "metadata": {
        "id": "UQGKTgdyrzC2"
      }
    },
    {
      "cell_type": "code",
      "source": [
        "import pandas as pd\n",
        "\n",
        "# Load the CSV file into a Pandas DataFrame\n",
        "df = pd.read_csv('prices.csv')\n",
        "\n",
        "# Convert the date column to a datetime object\n",
        "df['date'] = pd.to_datetime(df['date'])\n",
        "\n",
        "# Set the date column as the DataFrame index\n",
        "df = df.set_index('date')\n",
        "\n",
        "# Create a new DataFrame with all dates between the minimum and maximum date\n",
        "min_date = df.index.min()\n",
        "max_date = df.index.max()\n",
        "new_index = pd.date_range(min_date, max_date)\n",
        "new_df = pd.DataFrame(index=new_index)\n",
        "\n",
        "# Merge the new DataFrame with the original DataFrame\n",
        "merged_df = pd.merge(new_df, df, how='left', left_index=True, right_index=True)\n",
        "\n",
        "# Interpolate missing values\n",
        "interpolated_df = merged_df.interpolate(method='time')\n",
        "\n",
        "# Save the interpolated prices to a new CSV file\n",
        "interpolated_df.to_csv('interpolated_prices.csv')\n"
      ],
      "metadata": {
        "id": "oJJAsuturypO"
      },
      "execution_count": 2,
      "outputs": []
    }
  ]
}