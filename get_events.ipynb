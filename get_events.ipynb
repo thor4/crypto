{
  "nbformat": 4,
  "nbformat_minor": 0,
  "metadata": {
    "colab": {
      "provenance": [],
      "authorship_tag": "ABX9TyN6ZKUrWOAdUsYIpTgSbruf",
      "include_colab_link": true
    },
    "kernelspec": {
      "name": "python3",
      "display_name": "Python 3"
    },
    "language_info": {
      "name": "python"
    }
  },
  "cells": [
    {
      "cell_type": "markdown",
      "metadata": {
        "id": "view-in-github",
        "colab_type": "text"
      },
      "source": [
        "<a href=\"https://colab.research.google.com/github/thor4/crypto/blob/main/get_events.ipynb\" target=\"_parent\"><img src=\"https://colab.research.google.com/assets/colab-badge.svg\" alt=\"Open In Colab\"/></a>"
      ]
    },
    {
      "cell_type": "code",
      "execution_count": null,
      "metadata": {
        "colab": {
          "base_uri": "https://localhost:8080/"
        },
        "id": "LbkyGwf5-v3y",
        "outputId": "64539b5d-c808-40c2-ad8d-b1c62a211e33"
      },
      "outputs": [
        {
          "output_type": "stream",
          "name": "stdout",
          "text": [
            "Looking in indexes: https://pypi.org/simple, https://us-python.pkg.dev/colab-wheels/public/simple/\n",
            "Requirement already satisfied: requests in /usr/local/lib/python3.10/dist-packages (2.27.1)\n",
            "Requirement already satisfied: urllib3<1.27,>=1.21.1 in /usr/local/lib/python3.10/dist-packages (from requests) (1.26.15)\n",
            "Requirement already satisfied: certifi>=2017.4.17 in /usr/local/lib/python3.10/dist-packages (from requests) (2022.12.7)\n",
            "Requirement already satisfied: charset-normalizer~=2.0.0 in /usr/local/lib/python3.10/dist-packages (from requests) (2.0.12)\n",
            "Requirement already satisfied: idna<4,>=2.5 in /usr/local/lib/python3.10/dist-packages (from requests) (3.4)\n"
          ]
        }
      ],
      "source": [
        "!pip install requests"
      ]
    },
    {
      "cell_type": "markdown",
      "source": [
        "Load libraries. Define API key and addresses to scan for emitted events."
      ],
      "metadata": {
        "id": "q7W-tvpEZa67"
      }
    },
    {
      "cell_type": "code",
      "source": [
        "import requests\n",
        "import json\n",
        "import hashlib\n",
        "\n",
        "API_KEY = \"<replace-me>\"\n",
        "\n",
        "CURVE_VOTING_OWNERSHIP_ADDRESS = \"0xE478de485ad2fe566d49342Cbd03E49ed7DB3356\"\n",
        "CURVE_VOTING_PARAMETER_ADDRESS = \"0xBCfF8B0b9419b9A88c44546519b1e909cF330399\"\n",
        "CURVE_VOTING_EMERGENCY_ADDRESS = \"0x1115c9b3168563354137cDc60efb66552dd50678\"\n",
        "CONTRACT_ADDRESSES = [CURVE_VOTING_OWNERSHIP_ADDRESS, CURVE_VOTING_PARAMETER_ADDRESS, CURVE_VOTING_EMERGENCY_ADDRESS]\n",
        "\n",
        "ETHERSCAN_API_URL = \"https://api.etherscan.io/api\""
      ],
      "metadata": {
        "id": "-IF03pTg-1xM"
      },
      "execution_count": 8,
      "outputs": []
    },
    {
      "cell_type": "code",
      "source": [
        "def get_contract_abi(contract_address):\n",
        "    payload = {\n",
        "        \"module\": \"contract\",\n",
        "        \"action\": \"getabi\",\n",
        "        \"address\": contract_address,\n",
        "        \"apikey\": API_KEY\n",
        "    }\n",
        "    response = requests.get(ETHERSCAN_API_URL, params=payload)\n",
        "    data = json.loads(response.text)\n",
        "    return json.loads(data[\"result\"])\n",
        "\n",
        "def get_events_emitted_by_contract(contract_address):\n",
        "    payload = {\n",
        "        \"module\": \"logs\",\n",
        "        \"action\": \"getLogs\",\n",
        "        \"fromBlock\": \"0\",\n",
        "        \"toBlock\": \"latest\",\n",
        "        \"address\": contract_address,\n",
        "        \"apikey\": API_KEY\n",
        "    }\n",
        "    response = requests.get(ETHERSCAN_API_URL, params=payload)\n",
        "    data = json.loads(response.text)\n",
        "    result = data[\"result\"]\n",
        "    if isinstance(result, str):\n",
        "        return []\n",
        "    return [log[\"topics\"][0] for log in result]\n",
        "\n",
        "def build_signature_to_name_mapping(contract_abi): \n",
        "    signature_to_name = {} \n",
        "    for item in contract_abi: \n",
        "        if item[\"type\"] == \"event\": \n",
        "            signature = item[\"inputs\"] \n",
        "            signature_str = \",\".join([f\"{sig['type']} {sig['name']}\" for sig in signature]) \n",
        "            event_signature = f\"{item['name']}({signature_str})\" \n",
        "            signature_hash = \"0x\" + hashlib.sha3_256(event_signature.encode()).hexdigest() \n",
        "            signature_to_name[signature_hash] = item[\"name\"] \n",
        "    return signature_to_name\n",
        "\n",
        "def main(): \n",
        "    event_hashes_dict = {} \n",
        "    for contract_address in CONTRACT_ADDRESSES: \n",
        "        abi = get_contract_abi(contract_address) \n",
        "        signature_to_name = build_signature_to_name_mapping(abi) \n",
        "        events = get_events_emitted_by_contract(contract_address) \n",
        "        for event_hash in events: \n",
        "            event_name = signature_to_name.get(event_hash, \"Unknown\") \n",
        "            event_hashes_dict[(event_hash, event_name)] = event_hashes_dict.get((event_hash, event_name), 0) + 1\n",
        "    print(\"Unique events:\")\n",
        "    for event_info, count in event_hashes_dict.items():\n",
        "        event_hash, event_name = event_info\n",
        "        print(f\"{event_name} ({event_hash}): {count}\")\n",
        "\n",
        "if __name__ == \"__main__\": \n",
        "    main()"
      ],
      "metadata": {
        "colab": {
          "base_uri": "https://localhost:8080/"
        },
        "id": "vQEoHsFXbnYp",
        "outputId": "68888d57-4567-4f7d-c7e8-f44ddece4545"
      },
      "execution_count": 12,
      "outputs": [
        {
          "output_type": "stream",
          "name": "stdout",
          "text": [
            "Unique events:\n",
            "Unknown (0xbd5318adc778260bd213cc16f3ef06cfb4f729adb9309495fed0e10abc61c375): 2\n",
            "Unknown (0xcb34d0577abe5b2f96b65ea1bb5de2209ba6309c6909438c6d50dd277ca3b580): 2\n",
            "Unknown (0x0730610a5322c6584fb6f5bb760719e650c888cfd965a2beb2d598bcd425e394): 81\n",
            "Unknown (0xb34ee265e3d4f5ec4e8b52d59b2a9be8fceca2f274ebc080d8fba797fea9391f): 1700\n",
            "Unknown (0x9dcff9d94fbfdb4622d11edb383005f95e78efb446c72d92f8e615c6025c4703): 111\n",
            "Unknown (0x5229a5dba83a54ae8cb5b51bdd6de9474cacbe9dd332f5185f3a4f4f2e3f4ad9): 62\n",
            "Unknown (0xbf8e2b108bb7c980e08903a8a46527699d5e84905a082d56dacb4150725c8cab): 62\n",
            "Unknown (0x4d72fe0577a3a3f7da968d7b892779dde102519c25527b29cf7054f245c791b9): 3\n"
          ]
        }
      ]
    }
  ]
}