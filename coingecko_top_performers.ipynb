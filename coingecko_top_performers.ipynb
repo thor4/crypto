{
  "nbformat": 4,
  "nbformat_minor": 0,
  "metadata": {
    "colab": {
      "provenance": [],
      "authorship_tag": "ABX9TyNJ+N96gmwONh9Bqqn5ErhA",
      "include_colab_link": true
    },
    "kernelspec": {
      "name": "python3",
      "display_name": "Python 3"
    },
    "language_info": {
      "name": "python"
    }
  },
  "cells": [
    {
      "cell_type": "markdown",
      "metadata": {
        "id": "view-in-github",
        "colab_type": "text"
      },
      "source": [
        "<a href=\"https://colab.research.google.com/github/thor4/crypto/blob/main/coingecko_top_performers.ipynb\" target=\"_parent\"><img src=\"https://colab.research.google.com/assets/colab-badge.svg\" alt=\"Open In Colab\"/></a>"
      ]
    },
    {
      "cell_type": "code",
      "execution_count": 1,
      "metadata": {
        "colab": {
          "base_uri": "https://localhost:8080/"
        },
        "id": "UtUy12yByYTa",
        "outputId": "45fc75eb-8788-4a11-a56d-d384a0704938"
      },
      "outputs": [
        {
          "output_type": "stream",
          "name": "stdout",
          "text": [
            "Looking in indexes: https://pypi.org/simple, https://us-python.pkg.dev/colab-wheels/public/simple/\n",
            "Requirement already satisfied: requests in /usr/local/lib/python3.9/dist-packages (2.27.1)\n",
            "Requirement already satisfied: charset-normalizer~=2.0.0 in /usr/local/lib/python3.9/dist-packages (from requests) (2.0.12)\n",
            "Requirement already satisfied: urllib3<1.27,>=1.21.1 in /usr/local/lib/python3.9/dist-packages (from requests) (1.26.15)\n",
            "Requirement already satisfied: idna<4,>=2.5 in /usr/local/lib/python3.9/dist-packages (from requests) (3.4)\n",
            "Requirement already satisfied: certifi>=2017.4.17 in /usr/local/lib/python3.9/dist-packages (from requests) (2022.12.7)\n"
          ]
        }
      ],
      "source": [
        "!pip install requests"
      ]
    },
    {
      "cell_type": "code",
      "source": [
        "import requests\n",
        "import json\n",
        "\n",
        "def get_top_performers(days, vs_currency):\n",
        "    url = f'https://api.coingecko.com/api/v3/search/trending'\n",
        "    response = requests.get(url)\n",
        "\n",
        "    if response.status_code != 200:\n",
        "        print(\"Error: Unable to fetch trending coins.\")\n",
        "        return []\n",
        "\n",
        "    data = response.json()\n",
        "\n",
        "    if 'coins' not in data:\n",
        "        print(\"Error: 'coins' key not found in the response.\")\n",
        "        return []\n",
        "\n",
        "    top_performers = []\n",
        "\n",
        "    for item in data['coins']:\n",
        "        coin_id = item['item']['id']\n",
        "        coin_symbol = item['item']['symbol'].upper()\n",
        "        coin_name = item['item']['name']\n",
        "        coin_price_change = get_coin_price_change(coin_id, days, vs_currency)\n",
        "\n",
        "        if coin_price_change is not None:\n",
        "            top_performers.append({\n",
        "                'id': coin_id,\n",
        "                'symbol': coin_symbol,\n",
        "                'name': coin_name,\n",
        "                'price_change': coin_price_change\n",
        "            })\n",
        "\n",
        "    top_performers.sort(key=lambda x: x['price_change'], reverse=True)\n",
        "\n",
        "    return top_performers\n",
        "\n",
        "def get_coin_price_change(coin_id, days, vs_currency):\n",
        "    url = f'https://api.coingecko.com/api/v3/coins/{coin_id}/market_chart?vs_currency={vs_currency}&days={days}'\n",
        "    response = requests.get(url)\n",
        "\n",
        "    if response.status_code != 200:\n",
        "        return None\n",
        "\n",
        "    data = response.json()\n",
        "\n",
        "    if 'prices' not in data:\n",
        "        return None\n",
        "\n",
        "    price_data = data['prices']\n",
        "    start_price = price_data[0][1]\n",
        "    end_price = price_data[-1][1]\n",
        "    price_change = ((end_price - start_price) / start_price) * 100\n",
        "\n",
        "    return price_change\n",
        "\n",
        "def main():\n",
        "    days = 7\n",
        "    vs_currency = 'btc'\n",
        "\n",
        "    top_performers = get_top_performers(days, vs_currency)\n",
        "\n",
        "    print(f'Top performing tokens in the last {days} days (denominated in {vs_currency.upper()}):')\n",
        "    for i, performer in enumerate(top_performers):\n",
        "        print(f\"{i + 1}. {performer['symbol']} ({performer['name']}): {performer['price_change']:.2f}%\")\n",
        "\n",
        "main()"
      ],
      "metadata": {
        "colab": {
          "base_uri": "https://localhost:8080/"
        },
        "id": "s4lahveNyuUU",
        "outputId": "ab8ce94d-853a-4701-93ce-46cc1ed74b4b"
      },
      "execution_count": 4,
      "outputs": [
        {
          "output_type": "stream",
          "name": "stdout",
          "text": [
            "Top performing tokens in the last 7 days (denominated in BTC):\n",
            "1. STX (Stacks): 43.74%\n",
            "2. RDNT (Radiant Capital): 15.67%\n",
            "3. LIF3 (LIF3): 10.69%\n",
            "4. XOR (Sora): 5.18%\n",
            "5. SURE (inSure DeFi): -8.82%\n",
            "6. OP (Optimism): -9.28%\n",
            "7. ASD (AscendEx): -15.54%\n"
          ]
        }
      ]
    }
  ]
}