{
  "nbformat": 4,
  "nbformat_minor": 0,
  "metadata": {
    "colab": {
      "provenance": [],
      "authorship_tag": "ABX9TyOZY1in4j8VrvxbfU9NLgpV",
      "include_colab_link": true
    },
    "kernelspec": {
      "name": "python3",
      "display_name": "Python 3"
    },
    "language_info": {
      "name": "python"
    }
  },
  "cells": [
    {
      "cell_type": "markdown",
      "metadata": {
        "id": "view-in-github",
        "colab_type": "text"
      },
      "source": [
        "<a href=\"https://colab.research.google.com/github/thor4/crypto/blob/main/json_to_csv.ipynb\" target=\"_parent\"><img src=\"https://colab.research.google.com/assets/colab-badge.svg\" alt=\"Open In Colab\"/></a>"
      ]
    },
    {
      "cell_type": "markdown",
      "source": [
        "# Coingecko Pricing Data CSV Creator"
      ],
      "metadata": {
        "id": "bJGzkja_ncz0"
      }
    },
    {
      "cell_type": "markdown",
      "source": [
        "1.   Download historical pricing data using the Coingecko API.\n",
        "- - https://www.coingecko.com/en/api/documentation\n",
        "- - ie: https://api.coingecko.com/api/v3/coins/ethereum/market_chart/range?vs_currency=usd&from=1630387200&to=1676784000\n",
        "2.   Upload the JSON as data.json to the working directory.\n",
        "3.   The following script will extract price and convert all dates then save as a CSV with date and price columns."
      ],
      "metadata": {
        "id": "POhwOLYJm83q"
      }
    },
    {
      "cell_type": "code",
      "execution_count": 21,
      "metadata": {
        "id": "MSo3LFczBe6K"
      },
      "outputs": [],
      "source": [
        "import json\n",
        "import csv\n",
        "from datetime import datetime\n",
        "import pytz\n",
        "\n",
        "# load the JSON data from a file\n",
        "with open('data.json') as f:\n",
        "    data = json.load(f)\n",
        "\n",
        "# extract the \"prices\" data from the JSON\n",
        "prices = data['prices']\n",
        "\n",
        "# create a timezone object for Eastern Time\n",
        "eastern_tz = pytz.timezone('US/Eastern')\n",
        "\n",
        "# convert the UNIX timestamps to date strings and create a list of dictionaries\n",
        "price_data = []\n",
        "for item in prices:\n",
        "    timestamp = item[0] // 1000  # convert to seconds\n",
        "    date = datetime.utcfromtimestamp(timestamp).replace(tzinfo=pytz.UTC)\n",
        "    date = date.astimezone(eastern_tz)\n",
        "    date_string = date.strftime('%Y-%m-%d')\n",
        "    # price = item[1]\n",
        "    # price_data.append({'date': date_string, 'price': price})\n",
        "    # extract only dates between [2/14/2022, 2/18/23], inclusive\n",
        "    if datetime(2022, 2, 14, 0, 0, tzinfo=eastern_tz) <= date <= datetime(2023, 2, 18, 23, 59, 59, tzinfo=eastern_tz):\n",
        "        date_string = date.strftime('%Y-%m-%d')\n",
        "        price = item[1]\n",
        "        price_data.append({'date': date_string, 'price': price})\n",
        "\n",
        "# write the prices data to a CSV file\n",
        "with open('prices.csv', 'w', newline='') as f:\n",
        "    writer = csv.DictWriter(f, fieldnames=['date', 'price'])\n",
        "    writer.writeheader()\n",
        "    for item in price_data:\n",
        "        writer.writerow(item)\n"
      ]
    }
  ]
}